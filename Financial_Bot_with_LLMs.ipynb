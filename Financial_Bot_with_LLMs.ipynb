{
  "nbformat": 4,
  "nbformat_minor": 0,
  "metadata": {
    "colab": {
      "provenance": []
    },
    "kernelspec": {
      "name": "python3",
      "display_name": "Python 3"
    },
    "language_info": {
      "name": "python"
    }
  },
  "cells": [
    {
      "cell_type": "code",
      "source": [
        "%%capture --no-stderr\n",
        "%pip install --upgrade --quiet  langchain langchain-community langchainhub langchain-chroma bs4\n",
        "%pip install -qU langchain-openai\n",
        "!pip gradio_client==0.2.10\n",
        "!pip install gradio==3.38.0"
      ],
      "metadata": {
        "id": "WE6AFl7QCQGD"
      },
      "execution_count": null,
      "outputs": []
    },
    {
      "cell_type": "code",
      "source": [
        "from langchain_openai import ChatOpenAI\n",
        "from langchain.document_loaders import TextLoader\n",
        "from langchain.text_splitter import RecursiveCharacterTextSplitter\n",
        "from langchain.vectorstores import Chroma\n",
        "from langchain_openai import OpenAIEmbeddings\n",
        "from google.colab import drive # Used for mounting Google Drive\n",
        "from langchain_core.prompts import ChatPromptTemplate\n",
        "from langchain.chains.combine_documents import create_stuff_documents_chain\n",
        "from langchain.chains import create_retrieval_chain\n",
        "from langchain_community.document_loaders import WebBaseLoader\n",
        "import bs4\n",
        "from langchain_community.document_loaders import RecursiveUrlLoader"
      ],
      "metadata": {
        "colab": {
          "base_uri": "https://localhost:8080/"
        },
        "id": "mrHkPBgECSBX",
        "outputId": "292792f3-51dd-419a-8b92-3e23713bfc09"
      },
      "execution_count": null,
      "outputs": [
        {
          "output_type": "stream",
          "name": "stderr",
          "text": [
            "WARNING:langchain_community.utils.user_agent:USER_AGENT environment variable not set, consider setting it to identify your requests.\n"
          ]
        }
      ]
    },
    {
      "cell_type": "code",
      "execution_count": null,
      "metadata": {
        "id": "XzGfTYERB88U"
      },
      "outputs": [],
      "source": [
        "from urllib.request import Request, urlopen\n",
        "from urllib.parse import urlparse\n",
        "from bs4 import BeautifulSoup\n",
        "import ssl"
      ]
    },
    {
      "cell_type": "markdown",
      "source": [
        "# Scraping"
      ],
      "metadata": {
        "id": "EuBGOHmMCXEz"
      }
    },
    {
      "cell_type": "code",
      "source": [
        "def get_sitemap(url):\n",
        "    req = Request(\n",
        "        url=url,\n",
        "        headers={\"User-Agent\": \"Mozilla/5.0\"}\n",
        "    )\n",
        "    response = urlopen(req)\n",
        "    xml = BeautifulSoup(\n",
        "        response,\n",
        "        \"lxml-xml\",\n",
        "        from_encoding=response.info().get_param(\"charset\")\n",
        "    )\n",
        "    return xml"
      ],
      "metadata": {
        "id": "ayDrk0UNB9tU"
      },
      "execution_count": null,
      "outputs": []
    },
    {
      "cell_type": "code",
      "source": [
        "def get_urls(xml, name=None, data=None, verbose=False):\n",
        "    urls = []\n",
        "    for url in xml.find_all(\"url\"):\n",
        "        if xml.find(\"loc\"):\n",
        "            loc = url.findNext(\"loc\").text\n",
        "            urls.append(loc)\n",
        "    return urls"
      ],
      "metadata": {
        "id": "d5KAdyleCZsK"
      },
      "execution_count": null,
      "outputs": []
    },
    {
      "cell_type": "code",
      "source": [
        "ssl._create_default_https_context = ssl._create_stdlib_context\n",
        "url = \"https://zerodha.com/varsity/chapter-sitemap2.xml\"\n",
        "xml = get_sitemap(url)\n",
        "urls = get_urls(xml, verbose=False)"
      ],
      "metadata": {
        "id": "skaYtB2gCAzQ"
      },
      "execution_count": null,
      "outputs": []
    },
    {
      "cell_type": "code",
      "source": [
        "urls"
      ],
      "metadata": {
        "colab": {
          "base_uri": "https://localhost:8080/"
        },
        "id": "wSJTSIRlChLF",
        "outputId": "0b4d317d-f10c-4099-91ce-09fa8b18d367"
      },
      "execution_count": null,
      "outputs": [
        {
          "output_type": "execute_result",
          "data": {
            "text/plain": [
              "['https://zerodha.com/varsity/chapter/supplementary-note-the-20-market-depth/',\n",
              " 'https://zerodha.com/varsity/chapter/key-events-and-their-impact-on-markets/',\n",
              " 'https://zerodha.com/varsity/chapter/momentum-portfolios/',\n",
              " 'https://zerodha.com/varsity/chapter/sector-analysis-overview/',\n",
              " 'https://zerodha.com/varsity/chapter/cement/',\n",
              " 'https://zerodha.com/varsity/chapter/episode-1-ideas-by-the-lake/',\n",
              " 'https://zerodha.com/varsity/chapter/why-do-stock-prices-fluctuate/',\n",
              " 'https://zerodha.com/varsity/chapter/why-should-you-invest/',\n",
              " 'https://zerodha.com/varsity/chapter/who-are-the-different-actors-in-market/',\n",
              " 'https://zerodha.com/varsity/chapter/why-and-how-do-companies-list-and-what-is-an-ipo/',\n",
              " 'https://zerodha.com/varsity/chapter/understanding-corporate-actions-like-dividends-bonuses-and-buybacks/',\n",
              " 'https://zerodha.com/varsity/chapter/understanding-the-various-order-types/',\n",
              " 'https://zerodha.com/varsity/chapter/getting-started-2/',\n",
              " 'https://zerodha.com/varsity/chapter/what-is-a-stock-market-index/',\n",
              " 'https://zerodha.com/varsity/chapter/how-does-a-trading-platform-work/',\n",
              " 'https://zerodha.com/varsity/chapter/fundamental-analysis-vs-technical-analysis/',\n",
              " 'https://zerodha.com/varsity/chapter/setting-realistic-expectations/',\n",
              " 'https://zerodha.com/varsity/chapter/types-of-charts/',\n",
              " 'https://zerodha.com/varsity/chapter/timeframes/',\n",
              " 'https://zerodha.com/varsity/chapter/key-assumption-of-technical-analysis/',\n",
              " 'https://zerodha.com/varsity/chapter/understanding-candlestick-patterns/',\n",
              " 'https://zerodha.com/varsity/chapter/single-candlestick-patterns/',\n",
              " 'https://zerodha.com/varsity/chapter/multiple-candlestick-patterns/',\n",
              " 'https://zerodha.com/varsity/chapter/support-and-resistance/',\n",
              " 'https://zerodha.com/varsity/chapter/technical-indicators/',\n",
              " 'https://zerodha.com/varsity/chapter/your-trading-checklist/',\n",
              " 'https://zerodha.com/varsity/chapter/moving-averages-2/',\n",
              " 'https://zerodha.com/varsity/chapter/introduction-to-fundamental-analysis/',\n",
              " 'https://zerodha.com/varsity/chapter/mindset-of-an-investor/',\n",
              " 'https://zerodha.com/varsity/chapter/how-to-read-the-annual-report-of-a-company/',\n",
              " 'https://zerodha.com/varsity/chapter/understanding-the-pl-statement/',\n",
              " 'https://zerodha.com/varsity/chapter/understanding-the-balance-sheet-statement/',\n",
              " 'https://zerodha.com/varsity/chapter/understanding-the-cash-flow-statement/',\n",
              " 'https://zerodha.com/varsity/chapter/the-connection-between-balance-sheet-pl-statement-and-cash-flow-statement/',\n",
              " 'https://zerodha.com/varsity/chapter/the-financial-ratio-analysis/',\n",
              " 'https://zerodha.com/varsity/chapter/quick-note-on-relative-valuation/',\n",
              " 'https://zerodha.com/varsity/chapter/fundamental-investment-checklist/',\n",
              " 'https://zerodha.com/varsity/chapter/introduction-to-forwards-market/',\n",
              " 'https://zerodha.com/varsity/chapter/introducing-the-futures-contract/',\n",
              " 'https://zerodha.com/varsity/chapter/margins/',\n",
              " 'https://zerodha.com/varsity/chapter/leverage-and-payoff/',\n",
              " 'https://zerodha.com/varsity/chapter/futures-trade-2/',\n",
              " 'https://zerodha.com/varsity/chapter/settlement/',\n",
              " 'https://zerodha.com/varsity/chapter/open-interest-2/',\n",
              " 'https://zerodha.com/varsity/chapter/shorting-futures/',\n",
              " 'https://zerodha.com/varsity/chapter/overview-of-contracts/',\n",
              " 'https://zerodha.com/varsity/chapter/introduction-to-options/',\n",
              " 'https://zerodha.com/varsity/chapter/option-jargons/',\n",
              " 'https://zerodha.com/varsity/chapter/long-call-payoff-and-short-call-trade/',\n",
              " 'https://zerodha.com/varsity/chapter/put-buy-and-put-sell/',\n",
              " 'https://zerodha.com/varsity/chapter/summarizing-call-put-options-2/',\n",
              " 'https://zerodha.com/varsity/chapter/moneyness-of-option/',\n",
              " 'https://zerodha.com/varsity/chapter/the-option-greeks-delta/',\n",
              " 'https://zerodha.com/varsity/chapter/gamma/',\n",
              " 'https://zerodha.com/varsity/chapter/theta-2/',\n",
              " 'https://zerodha.com/varsity/chapter/vega-2/',\n",
              " 'https://zerodha.com/varsity/chapter/options-m2m-and-pl-calculation/',\n",
              " 'https://zerodha.com/varsity/chapter/physical-settlement-of-futures-and-options/',\n",
              " 'https://zerodha.com/varsity/chapter/bull-call-spread-2/',\n",
              " 'https://zerodha.com/varsity/chapter/the-straddle/',\n",
              " 'https://zerodha.com/varsity/chapter/the-ipo-markets-part-1/',\n",
              " 'https://zerodha.com/varsity/chapter/the-vegetable-list/',\n",
              " 'https://zerodha.com/varsity/chapter/exchange-traded-funds-etf/',\n",
              " 'https://zerodha.com/varsity/chapter/clearing-and-settlement-process/',\n",
              " 'https://zerodha.com/varsity/chapter/impact-cost-and-how-it-can-ruin-a-trade/',\n",
              " 'https://zerodha.com/varsity/chapter/5-types-of-share-capital/',\n",
              " 'https://zerodha.com/varsity/chapter/how-ofs-allotment-is-done/',\n",
              " 'https://zerodha.com/varsity/chapter/building-a-mutual-fund-portfolio/',\n",
              " 'https://zerodha.com/varsity/chapter/clearing-and-settlement-process-2/',\n",
              " 'https://zerodha.com/varsity/chapter/five-corporate-actions-and-its-impact-on-stock-prices/',\n",
              " 'https://zerodha.com/varsity/chapter/iron-condor/',\n",
              " 'https://zerodha.com/varsity/chapter/who-can-raise-funds-on-sse/',\n",
              " 'https://zerodha.com/varsity/chapter/hotels-part-1/',\n",
              " 'https://zerodha.com/varsity/chapter/hotels-part-2/',\n",
              " 'https://zerodha.com/varsity/chapter/modes-of-raising-funds-part-1-zczp-and-other-instruments/',\n",
              " 'https://zerodha.com/varsity/chapter/modes-of-raising-funds-part-2/',\n",
              " 'https://zerodha.com/varsity/chapter/margin-m2m/',\n",
              " 'https://zerodha.com/varsity/chapter/foreign-stocks-and-taxation/',\n",
              " 'https://zerodha.com/varsity/chapter/the-haircut-affair/',\n",
              " 'https://zerodha.com/varsity/chapter/steel-part-2/',\n",
              " 'https://zerodha.com/varsity/chapter/steel-part-1/',\n",
              " 'https://zerodha.com/varsity/chapter/banking-part-2/',\n",
              " 'https://zerodha.com/varsity/chapter/banking-part-1/',\n",
              " 'https://zerodha.com/varsity/chapter/automobiles-part-1/',\n",
              " 'https://zerodha.com/varsity/chapter/automobiles-part-2/',\n",
              " 'https://zerodha.com/varsity/chapter/information-technology/',\n",
              " 'https://zerodha.com/varsity/chapter/insurance-part-1/',\n",
              " 'https://zerodha.com/varsity/chapter/understanding-insurance-sector-part-2/',\n",
              " 'https://zerodha.com/varsity/chapter/government-securities/',\n",
              " 'https://zerodha.com/varsity/chapter/retail-part-1/',\n",
              " 'https://zerodha.com/varsity/chapter/retail-part-2/',\n",
              " 'https://zerodha.com/varsity/chapter/social-stock-exchanges-an-introduction/',\n",
              " 'https://zerodha.com/varsity/chapter/basics/',\n",
              " 'https://zerodha.com/varsity/chapter/classifying-your-market-activity/',\n",
              " 'https://zerodha.com/varsity/chapter/taxation-for-traders/',\n",
              " 'https://zerodha.com/varsity/chapter/taxation-for-investors/',\n",
              " 'https://zerodha.com/varsity/chapter/turnover-balance-sheet-and-pl/',\n",
              " 'https://zerodha.com/varsity/chapter/itr-forms/']"
            ]
          },
          "metadata": {},
          "execution_count": 16
        }
      ]
    },
    {
      "cell_type": "markdown",
      "source": [
        "# Building RAG"
      ],
      "metadata": {
        "id": "zWDT2p0ACx-G"
      }
    },
    {
      "cell_type": "code",
      "source": [
        "import getpass\n",
        "import os\n",
        "\n",
        "if not os.environ.get(\"OPENAI_API_KEY\"):\n",
        "    os.environ[\"OPENAI_API_KEY\"] = getpass.getpass()"
      ],
      "metadata": {
        "colab": {
          "base_uri": "https://localhost:8080/"
        },
        "id": "1EJchNsQCyeE",
        "outputId": "2733a896-a212-4cf2-a7ee-dd5ab0705979"
      },
      "execution_count": null,
      "outputs": [
        {
          "name": "stdout",
          "output_type": "stream",
          "text": [
            "··········\n"
          ]
        }
      ]
    },
    {
      "cell_type": "markdown",
      "source": [
        "## Vector Database"
      ],
      "metadata": {
        "id": "ERGu90YgIaTP"
      }
    },
    {
      "cell_type": "code",
      "source": [
        "docs = []\n",
        "for i, url in enumerate(urls):\n",
        "    loader = WebBaseLoader(url)\n",
        "    docs.extend(loader.load())\n",
        "    if i % 10 == 0:\n",
        "        print(\"i\", i)"
      ],
      "metadata": {
        "colab": {
          "base_uri": "https://localhost:8080/"
        },
        "id": "Pi3xVqzbDBaz",
        "outputId": "72da49e6-8b25-4209-9b97-bb705aa30ea5"
      },
      "execution_count": null,
      "outputs": [
        {
          "output_type": "stream",
          "name": "stdout",
          "text": [
            "i 0\n",
            "i 10\n",
            "i 20\n",
            "i 30\n",
            "i 40\n",
            "i 50\n",
            "i 60\n",
            "i 70\n",
            "i 80\n",
            "i 90\n"
          ]
        }
      ]
    },
    {
      "cell_type": "code",
      "source": [
        "text_splitter = RecursiveCharacterTextSplitter(chunk_size=1000,\n",
        "                                               chunk_overlap=200)\n",
        "splits = text_splitter.split_documents(docs)\n",
        "vectorstore = Chroma.from_documents(documents=splits,\n",
        "                                    embedding=OpenAIEmbeddings())\n",
        "retriever = vectorstore.as_retriever()"
      ],
      "metadata": {
        "id": "ha-U4n5IDF65"
      },
      "execution_count": null,
      "outputs": []
    },
    {
      "cell_type": "code",
      "source": [
        "print(\"len(docs)\", len(docs), \"len(splits)\", len(splits))\n",
        "print(\"On average each document is split into\", len(splits) / len(docs))"
      ],
      "metadata": {
        "colab": {
          "base_uri": "https://localhost:8080/"
        },
        "id": "0ZycjCtAHyXc",
        "outputId": "e7afd7a3-faad-49ed-c1ee-d9fe21bb07ee"
      },
      "execution_count": null,
      "outputs": [
        {
          "output_type": "stream",
          "name": "stdout",
          "text": [
            "len(docs) 98 len(splits) 1311\n",
            "On average each document is split into 13.377551020408163\n"
          ]
        }
      ]
    },
    {
      "cell_type": "markdown",
      "source": [
        "### Testing"
      ],
      "metadata": {
        "id": "JlANH5Y9IGBB"
      }
    },
    {
      "cell_type": "code",
      "source": [
        "res = vectorstore.similarity_search(\"What are index funds?\")"
      ],
      "metadata": {
        "id": "k9b-ccy_ID-W"
      },
      "execution_count": null,
      "outputs": []
    },
    {
      "cell_type": "code",
      "source": [
        "print(res)"
      ],
      "metadata": {
        "colab": {
          "base_uri": "https://localhost:8080/"
        },
        "id": "3Mxl6Yg7IK-Q",
        "outputId": "40ec7cc2-8465-4038-c22c-abe73703f9a2"
      },
      "execution_count": null,
      "outputs": [
        {
          "output_type": "stream",
          "name": "stdout",
          "text": [
            "[Document(metadata={'description': 'A mutual fund is a pooled investment vehicle that collects the money from various investors, invests and manages that money on their behalf.', 'language': 'en-US', 'source': 'https://zerodha.com/varsity/chapter/exchange-traded-funds-etf/', 'title': 'Exchange-traded funds (ETF) – Varsity by Zerodha'}, page_content='29.9 – ETF vs index funds\\nThis is another question that keeps coming up. Hopefully, this table should help answer these questions. In short, if you want to have active control or if you are actively using passive ETFs, then ETFs are a better choice. But if you are lazy like me and want to make as fewer choices as possible, then index funds are a better choice.\\nWith ETFs, you can express tactical strategies better than index funds because you can’t buy and sell index funds immediately.'), Document(metadata={'description': 'A mutual fund is a pooled investment vehicle that collects the money from various investors, invests and manages that money on their behalf.', 'language': 'en-US', 'source': 'https://zerodha.com/varsity/chapter/exchange-traded-funds-etf/', 'title': 'Exchange-traded funds (ETF) – Varsity by Zerodha'}, page_content='29.10 – Performance of ETFs vs actively managed funds\\nWe discussed this earlier in the index funds chapter as well. In the last decade or so, index funds and ETFs have become increasingly popular around the world. One reason is that investors have increasingly realized that a vast majority of actively managed mutual funds don’t beat their benchmarks. In a developed market like the US,Â\\xa0 ~90% of active funds don’t beat their benchmarks.\\nThe Indian markets have grown a fair bit and have become increasingly professionalized; institutional investors are a big part of today’s market. This means that most of the informational edges and asymmetries have been arbitraged away. Today, pretty much everyone has access to the same information. The odds of someone finding some piece of information that can move a stock, at least in the large-cap space, for example, is pretty much zero. But perhaps the biggest reason why active funds underperform is that they charge too much.'), Document(metadata={'description': 'A mutual fund is a pooled investment vehicle that collects the money from various investors, invests and manages that money on their behalf.', 'language': 'en-US', 'source': 'https://zerodha.com/varsity/chapter/exchange-traded-funds-etf/', 'title': 'Exchange-traded funds (ETF) – Varsity by Zerodha'}, page_content='Now, what if those mutual funds units could be traded on the stock exchange just like stocks like Reliance or Infosys? Just like a mutual fund, an exchange-traded fund (ETF) is a pooled investment vehicle that holds a basket of securities like stocks, bonds, and commodities and trades on the stock exchanges. You can buy and sell an ETF anytime, just like a stock.\\nThere are a few more nuances to an ETF than a mutual fund, but before we dive in, I hope you have a working idea of what an ETF is.\\n29.2 – History of ETFs\\nMutual funds have been around in some form for well over 100-years. The first open-ended mutual fund in the US was launched in 1924 and is still in existence today. The first mutual fund in India was launched in 1964. Mutual funds have democratized access to stocks, bonds, real estate and commodities globally to common investors. Exchange-traded funds (ETF) were the next evolution of mutual funds.'), Document(metadata={'description': 'A mutual fund is a pooled investment vehicle that collects the money from various investors, invests and manages that money on their behalf.', 'language': 'en-US', 'source': 'https://zerodha.com/varsity/chapter/exchange-traded-funds-etf/', 'title': 'Exchange-traded funds (ETF) – Varsity by Zerodha'}, page_content='Index funds tend to hold more cash and hence have a slightly higher tracking error\\nETFs don’t hold much cash and hence have a lower tracking error\\n\\n\\nLesser choice at-least as of now. But AMCs are launching a fund of funds for ETFs\\nPretty much all of the smart-beta products are ETFs. You have a wider choice')]\n"
          ]
        }
      ]
    },
    {
      "cell_type": "markdown",
      "source": [
        "## LLM Prompting"
      ],
      "metadata": {
        "id": "QPqdqKZYIgHA"
      }
    },
    {
      "cell_type": "code",
      "source": [
        "# 2. Incorporate the retriever into a question-answering chain.\n",
        "system_prompt = (\n",
        "    \"You are a financial assistant for question-answering tasks. \"\n",
        "    \"Use the following pieces of retrieved context to answer \"\n",
        "    \"the question. If you don't know the answer, say that you \"\n",
        "    \"don't know. Use three sentences maximum and keep the \"\n",
        "    \"answer concise.\"\n",
        "    \"If the question is not clear ask follow up questions\"\n",
        "    \"\\n\\n\"\n",
        "    \"{context}\"\n",
        ")\n",
        "\n",
        "prompt = ChatPromptTemplate.from_messages(\n",
        "    [\n",
        "        (\"system\", system_prompt),\n",
        "        (\"human\", \"{input}\"),\n",
        "    ]\n",
        ")"
      ],
      "metadata": {
        "id": "tWNtYszUIilF"
      },
      "execution_count": null,
      "outputs": []
    },
    {
      "cell_type": "code",
      "source": [
        "llm = ChatOpenAI(model=\"gpt-3.5-turbo-0125\")"
      ],
      "metadata": {
        "id": "SmwWhA4bIoLA"
      },
      "execution_count": null,
      "outputs": []
    },
    {
      "cell_type": "code",
      "source": [
        "question_answer_chain = create_stuff_documents_chain(llm, prompt)\n",
        "rag_chain = create_retrieval_chain(retriever, question_answer_chain)"
      ],
      "metadata": {
        "id": "eKfNuXCNIocI"
      },
      "execution_count": null,
      "outputs": []
    },
    {
      "cell_type": "code",
      "source": [
        "response = rag_chain.invoke({\"input\": \"What is index fund?\"})\n",
        "print(\"Response is\\n------\")\n",
        "print(response[\"answer\"])\n",
        "# print(response[\"context\"])"
      ],
      "metadata": {
        "colab": {
          "base_uri": "https://localhost:8080/"
        },
        "id": "BnwTy_VLIr9Q",
        "outputId": "346ae0c5-2df1-43c3-e456-2da458e5b520"
      },
      "execution_count": null,
      "outputs": [
        {
          "output_type": "stream",
          "name": "stdout",
          "text": [
            "Response is\n",
            "------\n",
            "An index fund is a type of mutual fund or exchange-traded fund (ETF) that aims to replicate the performance of a specific financial market index, such as the S&P 500. Index funds provide broad market exposure and are passively managed, meaning they do not involve actively selecting investments. Investors choose index funds for their low costs and ability to match the returns of the chosen index.\n"
          ]
        }
      ]
    },
    {
      "cell_type": "code",
      "source": [
        "response = rag_chain.invoke({\"input\": \"I want to give someone the right to manage my assists, what should I do?\"})\n",
        "print(\"Response is\\n------\")\n",
        "print(response[\"answer\"])\n",
        "# print(response[\"context\"])"
      ],
      "metadata": {
        "colab": {
          "base_uri": "https://localhost:8080/"
        },
        "id": "2FD_lFxIIsGE",
        "outputId": "131d197f-fbc2-4abc-f7c1-df7539b60df7"
      },
      "execution_count": null,
      "outputs": [
        {
          "output_type": "stream",
          "name": "stdout",
          "text": [
            "Response is\n",
            "------\n",
            "You can consider setting up a trust or a power of attorney to grant someone the authority to manage your assets. A trust allows you to transfer ownership of assets to a trustee, who manages them for the benefit of the beneficiaries you choose. Alternatively, a power of attorney gives someone the legal authority to make decisions on your behalf regarding your assets while you are alive. Consulting with a legal professional is recommended to determine the best option based on your specific needs and circumstances.\n"
          ]
        }
      ]
    },
    {
      "cell_type": "markdown",
      "source": [
        "# Adding History"
      ],
      "metadata": {
        "id": "s7HM46CLIxc5"
      }
    },
    {
      "cell_type": "markdown",
      "source": [
        "![image.png](data:image/png;base64,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)"
      ],
      "metadata": {
        "id": "ATZ-qxVNI0JE"
      }
    },
    {
      "cell_type": "code",
      "source": [
        "from langchain.chains import create_history_aware_retriever\n",
        "from langchain_core.prompts import MessagesPlaceholder\n",
        "\n",
        "contextualize_q_system_prompt = (\n",
        "    \"Given a chat history and the latest user question \"\n",
        "    \"which might reference context in the chat history, \"\n",
        "    \"formulate a standalone question which can be understood \"\n",
        "    \"without the chat history. Do NOT answer the question, \"\n",
        "    \"just reformulate it if needed and otherwise return it as is.\"\n",
        ")\n",
        "\n",
        "contextualize_q_prompt = ChatPromptTemplate.from_messages(\n",
        "    [\n",
        "        (\"system\", contextualize_q_system_prompt),\n",
        "        MessagesPlaceholder(\"chat_history\"),\n",
        "        (\"human\", \"{input}\"),\n",
        "    ]\n",
        ")\n",
        "# If there is no chat_history, then the input is just passed directly to the\n",
        "# retriever. If there is chat_history, then the prompt and LLM will be used to\n",
        "# generate a search query. That search query is then passed to the retriever.\n",
        "\n",
        "# This chain prepends a rephrasing of the input query to our retriever,\n",
        "# so that the retrieval incorporates the context of the conversation.\n",
        "\n",
        "history_aware_retriever = create_history_aware_retriever(\n",
        "    llm, retriever, contextualize_q_prompt\n",
        ")"
      ],
      "metadata": {
        "id": "O7i2Th07IuQp"
      },
      "execution_count": null,
      "outputs": []
    },
    {
      "cell_type": "code",
      "source": [
        "from langchain.chains import create_retrieval_chain\n",
        "from langchain.chains.combine_documents import create_stuff_documents_chain\n",
        "\n",
        "qa_prompt = ChatPromptTemplate.from_messages(\n",
        "    [\n",
        "        (\"system\", system_prompt),\n",
        "        MessagesPlaceholder(\"chat_history\"),\n",
        "        (\"human\", \"{input}\"),\n",
        "    ]\n",
        ")\n",
        "\n",
        "question_answer_chain = create_stuff_documents_chain(llm, qa_prompt)\n",
        "\n",
        "# history_aware_retriever and question_answer_chain in sequence, retaining\n",
        "# intermediate outputs such as the retrieved context for convenience.\n",
        "# It has input keys input and chat_history, and includes input, chat_history,\n",
        "# context, and answer in its output.\n",
        "rag_chain = create_retrieval_chain(history_aware_retriever,\n",
        "                                   question_answer_chain)"
      ],
      "metadata": {
        "id": "eRHycU7hI-my"
      },
      "execution_count": null,
      "outputs": []
    },
    {
      "cell_type": "code",
      "source": [
        "from langchain_core.messages import AIMessage, HumanMessage\n",
        "\n",
        "chat_history = []\n",
        "\n",
        "question = \"What is index fund?\"\n",
        "ai_msg_1 = rag_chain.invoke({\"input\": question, \"chat_history\": chat_history})\n",
        "chat_history.extend(\n",
        "    [\n",
        "        HumanMessage(content=question),\n",
        "        AIMessage(content=ai_msg_1[\"answer\"]),\n",
        "    ]\n",
        ")\n",
        "\n",
        "second_question = \"What are examples of it?\" # What are examples of index funds?\n",
        "ai_msg_2 = rag_chain.invoke({\"input\": second_question, \"chat_history\": chat_history})\n",
        "\n",
        "print(ai_msg_2[\"answer\"])"
      ],
      "metadata": {
        "colab": {
          "base_uri": "https://localhost:8080/"
        },
        "id": "B1WAAq3RI-00",
        "outputId": "bd257b21-e9da-476b-a75e-cd7c8e28af0d"
      },
      "execution_count": null,
      "outputs": [
        {
          "output_type": "stream",
          "name": "stdout",
          "text": [
            "Examples of index funds include those that track popular indices like the S&P 500, Dow Jones Industrial Average, NASDAQ Composite, Russell 2000, and MSCI EAFE. These index funds aim to replicate the performance of the underlying index by holding the same stocks in the same proportions as the index itself, providing investors with diversified exposure to a specific market or segment.\n"
          ]
        }
      ]
    },
    {
      "cell_type": "markdown",
      "source": [
        "# Gradio"
      ],
      "metadata": {
        "id": "m1OM8hldJG0Z"
      }
    },
    {
      "cell_type": "code",
      "source": [
        "import gradio as gr"
      ],
      "metadata": {
        "colab": {
          "base_uri": "https://localhost:8080/"
        },
        "id": "yzwidyDyJIza",
        "outputId": "a0952533-237f-405b-c266-d808ff8d1ca9"
      },
      "execution_count": null,
      "outputs": [
        {
          "output_type": "stream",
          "name": "stderr",
          "text": [
            "/usr/local/lib/python3.10/dist-packages/gradio_client/documentation.py:106: UserWarning: Could not get documentation group for <class 'gradio.mix.Parallel'>: No known documentation group for module 'gradio.mix'\n",
            "  warnings.warn(f\"Could not get documentation group for {cls}: {exc}\")\n",
            "/usr/local/lib/python3.10/dist-packages/gradio_client/documentation.py:106: UserWarning: Could not get documentation group for <class 'gradio.mix.Series'>: No known documentation group for module 'gradio.mix'\n",
            "  warnings.warn(f\"Could not get documentation group for {cls}: {exc}\")\n"
          ]
        }
      ]
    },
    {
      "cell_type": "code",
      "source": [
        "from langchain_core.messages import AIMessage, HumanMessage\n",
        "\n",
        "def predict(question, chat_history):\n",
        "  history_for_llm = []\n",
        "  for tup in chat_history:\n",
        "    history_for_llm.extend([HumanMessage(tup[0]), AIMessage(tup[1])])\n",
        "\n",
        "  ai_msg = rag_chain.invoke({\"input\": question, \"chat_history\": history_for_llm})\n",
        "  return ai_msg[\"answer\"]"
      ],
      "metadata": {
        "id": "dSjG1V8RJJsK"
      },
      "execution_count": null,
      "outputs": []
    },
    {
      "cell_type": "code",
      "source": [
        "demo = gr.ChatInterface(predict,\n",
        "    chatbot=gr.Chatbot(height=300),\n",
        "    textbox=gr.Textbox(placeholder=\"Hi I am your virtual assistant, how can I help you today?\", container=False, scale=7),\n",
        "    title=\"DocumentQABot\",\n",
        "    theme=\"soft\",\n",
        "    examples=[\"What is the weather like in SF?\", \"What is LangSmith?\"],\n",
        "    retry_btn=None,\n",
        "    undo_btn=\"Delete Previous\",\n",
        "    clear_btn=\"Clear\",)\n",
        "demo.launch(share=True, debug=True)"
      ],
      "metadata": {
        "colab": {
          "base_uri": "https://localhost:8080/",
          "height": 660
        },
        "id": "pjVfcWcPJar0",
        "outputId": "8fbb8801-835b-4072-a890-bbdeaa03144a"
      },
      "execution_count": null,
      "outputs": [
        {
          "output_type": "stream",
          "name": "stdout",
          "text": [
            "Colab notebook detected. This cell will run indefinitely so that you can see errors and logs. To turn off, set debug=False in launch().\n",
            "IMPORTANT: You are using gradio version 3.38.0, however version 4.29.0 is available, please upgrade.\n",
            "--------\n",
            "Running on public URL: https://f16a59b6b08727504a.gradio.live\n",
            "\n",
            "This share link expires in 72 hours. For free permanent hosting and GPU upgrades, run `gradio deploy` from Terminal to deploy to Spaces (https://huggingface.co/spaces)\n"
          ]
        },
        {
          "output_type": "display_data",
          "data": {
            "text/plain": [
              "<IPython.core.display.HTML object>"
            ],
            "text/html": [
              "<div><iframe src=\"https://f16a59b6b08727504a.gradio.live\" width=\"100%\" height=\"500\" allow=\"autoplay; camera; microphone; clipboard-read; clipboard-write;\" frameborder=\"0\" allowfullscreen></iframe></div>"
            ]
          },
          "metadata": {}
        },
        {
          "output_type": "stream",
          "name": "stdout",
          "text": [
            "Keyboard interruption in main thread... closing server.\n",
            "Killing tunnel 127.0.0.1:7860 <> https://f16a59b6b08727504a.gradio.live\n"
          ]
        },
        {
          "output_type": "execute_result",
          "data": {
            "text/plain": []
          },
          "metadata": {},
          "execution_count": 77
        }
      ]
    }
  ]
}